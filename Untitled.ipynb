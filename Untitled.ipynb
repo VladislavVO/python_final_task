{
 "cells": [
  {
   "cell_type": "markdown",
   "id": "17b18393",
   "metadata": {},
   "source": [
    "y = (sin(x)/2 + cos(x)/2)^2 * sin(x)"
   ]
  },
  {
   "cell_type": "code",
   "execution_count": 50,
   "id": "8e84377e",
   "metadata": {},
   "outputs": [],
   "source": [
    "from sympy import Symbol\n",
    "from sympy import solveset, nonlinsolve, linsolve, maximum, minimum\n",
    "from sympy import evalf, solve, sin, cos, pi, sqrt, tan, atan, log, plot\n",
    "from sympy import pprint, is_increasing, is_decreasing, is_monotonic\n",
    "from sympy import S, Interval, oo, periodicity"
   ]
  },
  {
   "cell_type": "code",
   "execution_count": 51,
   "id": "54f89d24",
   "metadata": {},
   "outputs": [
    {
     "data": {
      "text/latex": [
       "$\\displaystyle \\left(\\frac{\\sin{\\left(x \\right)}}{2} + \\frac{\\cos{\\left(x \\right)}}{2}\\right)^{2} \\sin{\\left(x \\right)}$"
      ],
      "text/plain": [
       "(sin(x)/2 + cos(x)/2)**2*sin(x)"
      ]
     },
     "execution_count": 51,
     "metadata": {},
     "output_type": "execute_result"
    }
   ],
   "source": [
    "x=Symbol('x',real=True)\n",
    "y=((sin(x)/2+cos(x)/2)**2)*sin(x)\n",
    "y"
   ]
  },
  {
   "cell_type": "markdown",
   "id": "62615a80",
   "metadata": {},
   "source": [
    "1. Определить корни"
   ]
  },
  {
   "cell_type": "code",
   "execution_count": 52,
   "id": "5db2e8cf",
   "metadata": {},
   "outputs": [
    {
     "data": {
      "text/latex": [
       "$\\displaystyle \\left\\{2 n \\pi\\; \\middle|\\; n \\in \\mathbb{Z}\\right\\} \\cup \\left\\{2 n \\pi + \\pi\\; \\middle|\\; n \\in \\mathbb{Z}\\right\\} \\cup \\left\\{2 n \\pi + \\frac{3 \\pi}{4}\\; \\middle|\\; n \\in \\mathbb{Z}\\right\\} \\cup \\left\\{2 n \\pi + \\frac{7 \\pi}{4}\\; \\middle|\\; n \\in \\mathbb{Z}\\right\\}$"
      ],
      "text/plain": [
       "Union(ImageSet(Lambda(_n, 2*_n*pi + 3*pi/4), Integers), ImageSet(Lambda(_n, 2*_n*pi + 7*pi/4), Integers), ImageSet(Lambda(_n, 2*_n*pi + pi), Integers), ImageSet(Lambda(_n, 2*_n*pi), Integers))"
      ]
     },
     "execution_count": 52,
     "metadata": {},
     "output_type": "execute_result"
    }
   ],
   "source": [
    "solveset(y,x)"
   ]
  },
  {
   "cell_type": "code",
   "execution_count": 53,
   "id": "7c31518c",
   "metadata": {},
   "outputs": [
    {
     "data": {
      "text/plain": [
       "[0, -pi/4, 3*pi/4, pi]"
      ]
     },
     "execution_count": 53,
     "metadata": {},
     "output_type": "execute_result"
    }
   ],
   "source": [
    "solve(y,x)"
   ]
  },
  {
   "cell_type": "markdown",
   "id": "313cdf2b",
   "metadata": {},
   "source": [
    "2. Найти интервалы на которых функция возрастает\n",
    "3. Найти интервалы на которых функция убывает"
   ]
  },
  {
   "cell_type": "code",
   "execution_count": 54,
   "id": "0194cd7c",
   "metadata": {},
   "outputs": [
    {
     "data": {
      "text/latex": [
       "$\\displaystyle \\left(- \\sin{\\left(x \\right)} + \\cos{\\left(x \\right)}\\right) \\left(\\frac{\\sin{\\left(x \\right)}}{2} + \\frac{\\cos{\\left(x \\right)}}{2}\\right) \\sin{\\left(x \\right)} + \\left(\\frac{\\sin{\\left(x \\right)}}{2} + \\frac{\\cos{\\left(x \\right)}}{2}\\right)^{2} \\cos{\\left(x \\right)}$"
      ],
      "text/plain": [
       "(-sin(x) + cos(x))*(sin(x)/2 + cos(x)/2)*sin(x) + (sin(x)/2 + cos(x)/2)**2*cos(x)"
      ]
     },
     "execution_count": 54,
     "metadata": {},
     "output_type": "execute_result"
    }
   ],
   "source": [
    "derivate=diff(y)\n",
    "derivate"
   ]
  },
  {
   "cell_type": "code",
   "execution_count": 65,
   "id": "416c6fc0",
   "metadata": {},
   "outputs": [
    {
     "data": {
      "text/latex": [
       "$\\displaystyle 2 \\pi$"
      ],
      "text/plain": [
       "2*pi"
      ]
     },
     "execution_count": 65,
     "metadata": {},
     "output_type": "execute_result"
    }
   ],
   "source": [
    "periodicity(y,x)"
   ]
  },
  {
   "cell_type": "code",
   "execution_count": 71,
   "id": "76007598",
   "metadata": {},
   "outputs": [
    {
     "name": "stdout",
     "output_type": "stream",
     "text": [
      "-0.79 \t -pi/4\n",
      "2.36 \t 3*pi/4\n",
      "-2.08 \t -2*atan(-3/2 + sqrt(6)*sqrt(5 - sqrt(17))/2 + sqrt(17)/2)\n",
      "2.87 \t 2*atan(3/2 + sqrt(17)/2 + sqrt(6)*sqrt(sqrt(17) + 5)/2)\n",
      "1.06 \t 2*atan(-sqrt(17)/2 + sqrt(6)*sqrt(5 - sqrt(17))/2 + 3/2)\n",
      "-0.27 \t 2*atan(-sqrt(6)*sqrt(sqrt(17) + 5)/2 + 3/2 + sqrt(17)/2)\n"
     ]
    }
   ],
   "source": [
    "res=solve(derivate, x)\n",
    "for i in res:\n",
    "    print(round(i.evalf(),2),'\\t', i)"
   ]
  },
  {
   "cell_type": "code",
   "execution_count": 72,
   "id": "c42ad4fd",
   "metadata": {},
   "outputs": [
    {
     "name": "stdout",
     "output_type": "stream",
     "text": [
      "-3.14 \t -pi\n",
      "-2.08 \t -2*atan(-3/2 + sqrt(6)*sqrt(5 - sqrt(17))/2 + sqrt(17)/2)\n",
      "-0.79 \t -pi/4\n",
      "-0.27 \t 2*atan(-sqrt(6)*sqrt(sqrt(17) + 5)/2 + 3/2 + sqrt(17)/2)\n",
      "1.06 \t 2*atan(-sqrt(17)/2 + sqrt(6)*sqrt(5 - sqrt(17))/2 + 3/2)\n",
      "2.36 \t 3*pi/4\n",
      "2.87 \t 2*atan(3/2 + sqrt(17)/2 + sqrt(6)*sqrt(sqrt(17) + 5)/2)\n",
      "3.14 \t pi\n"
     ]
    }
   ],
   "source": [
    "if res[-1]!=pi:\n",
    "    res.append(pi)\n",
    "if res[0]!=-pi:\n",
    "    res.insert(0,-pi)\n",
    "res.sort()\n",
    "for i in res:\n",
    "    print(round(i.evalf(),2),'\\t',i)"
   ]
  },
  {
   "cell_type": "code",
   "execution_count": 79,
   "id": "20fda869",
   "metadata": {},
   "outputs": [
    {
     "name": "stdout",
     "output_type": "stream",
     "text": [
      "возрастает:(-3.14159265358979;-2.08246597090872\n",
      "возрастает:(-2.08246597090872;-0.785398163397448\n",
      "убывает:(-0.785398163397448;-0.273728519283620\n",
      "возрастает:(-0.273728519283620;1.05912668268107\n",
      "убывает:(1.05912668268107;2.35619449019234\n",
      "убывает:(2.35619449019234;2.86786413430617\n",
      "возрастает:(2.86786413430617;3.14159265358979\n"
     ]
    }
   ],
   "source": [
    "for i in range(len(res)-1):\n",
    "    final=derivate.subs(x,(res[i+1])+res[i]/2)\n",
    "    if final>0:\n",
    "        pprint(f\"возрастает:({res[i].evalf()};{res[i+1].evalf()}\")\n",
    "    else:\n",
    "        pprint(f\"убывает:({res[i].evalf()};{res[i+1].evalf()}\")"
   ]
  },
  {
   "cell_type": "markdown",
   "id": "fedc77c2",
   "metadata": {},
   "source": [
    "4. Построить график"
   ]
  },
  {
   "cell_type": "code",
   "execution_count": 56,
   "id": "b3229b32",
   "metadata": {},
   "outputs": [
    {
     "data": {
      "image/png": "[encoded data removed]",
      "text/plain": [
       "<Figure size 432x288 with 1 Axes>"
      ]
     },
     "metadata": {
      "needs_background": "light"
     },
     "output_type": "display_data"
    }
   ],
   "source": [
    "graph = plot(y,(x,-pi,pi))"
   ]
  },
  {
   "cell_type": "markdown",
   "id": "20895bbd",
   "metadata": {},
   "source": [
    "5. Вычислить вершину"
   ]
  },
  {
   "cell_type": "code",
   "execution_count": 62,
   "id": "91d7d9c7",
   "metadata": {},
   "outputs": [
    {
     "name": "stdout",
     "output_type": "stream",
     "text": [
      "y_max= 0.404106232073136\n",
      "y_min= -0.404106232073136\n"
     ]
    }
   ],
   "source": [
    "y_max=maximum(y,x,Interval(-pi,pi)).evalf()\n",
    "y_min=minimum(y,x,Interval(-pi,pi)).evalf()\n",
    "print('y_max=', y_max)\n",
    "print('y_min=', y_min)"
   ]
  },
  {
   "cell_type": "markdown",
   "id": "6c1e9039",
   "metadata": {},
   "source": [
    "6. Определить промежутки, на котором f > 0"
   ]
  },
  {
   "cell_type": "code",
   "execution_count": 57,
   "id": "c64734a0",
   "metadata": {},
   "outputs": [
    {
     "data": {
      "text/latex": [
       "$\\displaystyle \\left(0, \\frac{3 \\pi}{4}\\right) \\cup \\left(\\frac{3 \\pi}{4}, \\pi\\right)$"
      ],
      "text/plain": [
       "Union(Interval.open(0, 3*pi/4), Interval.open(3*pi/4, pi))"
      ]
     },
     "execution_count": 57,
     "metadata": {},
     "output_type": "execute_result"
    }
   ],
   "source": [
    "solveset(y>0,x,S.Reals)"
   ]
  },
  {
   "cell_type": "markdown",
   "id": "cb73978c",
   "metadata": {},
   "source": [
    "7. Определить промежутки, на котором f < 0"
   ]
  },
  {
   "cell_type": "code",
   "execution_count": 80,
   "id": "42d6978a",
   "metadata": {},
   "outputs": [
    {
     "data": {
      "text/latex": [
       "$\\displaystyle \\left(\\pi, \\frac{7 \\pi}{4}\\right) \\cup \\left(\\frac{7 \\pi}{4}, 2 \\pi\\right)$"
      ],
      "text/plain": [
       "Union(Interval.open(pi, 7*pi/4), Interval.open(7*pi/4, 2*pi))"
      ]
     },
     "execution_count": 80,
     "metadata": {},
     "output_type": "execute_result"
    }
   ],
   "source": [
    "solveset(y<0,x,S.Reals)"
   ]
  },
  {
   "cell_type": "code",
   "execution_count": 82,
   "id": "8fd0e90a",
   "metadata": {},
   "outputs": [
    {
     "name": "stdout",
     "output_type": "stream",
     "text": [
      "больше 0:(-3.14159265358979;-2.08246597090872\n",
      "меньше 0:(-2.08246597090872;-0.785398163397448\n",
      "меньше 0:(-0.785398163397448;-0.273728519283620\n",
      "больше 0:(-0.273728519283620;1.05912668268107\n",
      "больше 0:(1.05912668268107;2.35619449019234\n",
      "меньше 0:(2.35619449019234;2.86786413430617\n",
      "меньше 0:(2.86786413430617;3.14159265358979\n"
     ]
    }
   ],
   "source": [
    "for i in range(len(res)-1):\n",
    "    final=y.subs(x,(res[i+1])+res[i]/2)\n",
    "    if final>0:\n",
    "        pprint(f\"больше 0:({res[i].evalf()};{res[i+1].evalf()}\")\n",
    "    else:\n",
    "        pprint(f\"меньше 0:({res[i].evalf()};{res[i+1].evalf()}\")"
   ]
  }
 ],
 "metadata": {
  "kernelspec": {
   "display_name": "Python 3 (ipykernel)",
   "language": "python",
   "name": "python3"
  },
  "language_info": {
   "codemirror_mode": {
    "name": "ipython",
    "version": 3
   },
   "file_extension": ".py",
   "mimetype": "text/x-python",
   "name": "python",
   "nbconvert_exporter": "python",
   "pygments_lexer": "ipython3",
   "version": "3.9.12"
  }
 },
 "nbformat": 4,
 "nbformat_minor": 5
}
